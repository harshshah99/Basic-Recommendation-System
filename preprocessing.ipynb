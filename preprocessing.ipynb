{
 "cells": [
  {
   "cell_type": "code",
   "execution_count": 348,
   "metadata": {},
   "outputs": [],
   "source": [
    "import pandas as pd\n",
    "import numpy as np"
   ]
  },
  {
   "cell_type": "code",
   "execution_count": 349,
   "metadata": {},
   "outputs": [],
   "source": [
    "csvfile=pd.read_csv(r\"cdrs.csv\", sep=',')\n",
    "ratings = deepcopy(csvfile)\n",
    "\n",
    "name_indices = ratings['Name.']\n",
    "del ratings['Timestamp']\n",
    "del ratings['Name.']\n",
    "del ratings['Email']\n",
    "\n",
    "ratings.columns=ratings.columns.map(lambda x:x[2:-1]) #combined data\n",
    "movieColumns=ratings.columns[:53].map(lambda x:\"Movie:\"+x) #Movie rating data\n",
    "bookColumns=ratings.columns[53:].map(lambda x:\"Book:\"+x) #Book rating data\n",
    "ratings.columns=movieColumns.union(bookColumns,sort=False) "
   ]
  },
  {
   "cell_type": "code",
   "execution_count": 350,
   "metadata": {},
   "outputs": [],
   "source": [
    "user_ratings = ratings.index.map(lambda x : ratings.loc[x])"
   ]
  },
  {
   "cell_type": "code",
   "execution_count": 351,
   "metadata": {},
   "outputs": [],
   "source": [
    "ratings = ratings.dropna(how='all') #drop rows with all NANs"
   ]
  },
  {
   "cell_type": "code",
   "execution_count": 352,
   "metadata": {},
   "outputs": [],
   "source": [
    "ratings = ratings.reset_index() #reset the index"
   ]
  },
  {
   "cell_type": "code",
   "execution_count": 353,
   "metadata": {},
   "outputs": [],
   "source": [
    "csvfile = csvfile.loc[ratings['index']] # use the old index to find out the non - NANs value in CSV file so that the indices in ratings and csvfile match"
   ]
  },
  {
   "cell_type": "code",
   "execution_count": 354,
   "metadata": {},
   "outputs": [],
   "source": [
    "ratings = ratings.drop(columns = 'index') #remove the old index"
   ]
  },
  {
   "cell_type": "code",
   "execution_count": 360,
   "metadata": {},
   "outputs": [],
   "source": [
    "csvfile = csvfile.reset_index(drop= True)"
   ]
  },
  {
   "cell_type": "code",
   "execution_count": 361,
   "metadata": {},
   "outputs": [],
   "source": [
    "csvfile.to_pickle(path =\"./ratings_with_name.pkl\")\n",
    "ratings.to_pickle(path= \"./ratings_matrix.pkl\")"
   ]
  },
  {
   "cell_type": "code",
   "execution_count": null,
   "metadata": {},
   "outputs": [],
   "source": []
  }
 ],
 "metadata": {
  "kernelspec": {
   "display_name": "Python 3",
   "language": "python",
   "name": "python3"
  },
  "language_info": {
   "codemirror_mode": {
    "name": "ipython",
    "version": 3
   },
   "file_extension": ".py",
   "mimetype": "text/x-python",
   "name": "python",
   "nbconvert_exporter": "python",
   "pygments_lexer": "ipython3",
   "version": "3.6.8"
  }
 },
 "nbformat": 4,
 "nbformat_minor": 2
}
