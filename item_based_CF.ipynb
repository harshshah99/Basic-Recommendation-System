{
 "cells": [
  {
   "cell_type": "code",
   "execution_count": 1,
   "metadata": {},
   "outputs": [],
   "source": [
    "import pandas as pd\n",
    "import numpy as np\n",
    "from sklearn.metrics import mean_squared_error,mean_absolute_error"
   ]
  },
  {
   "cell_type": "code",
   "execution_count": 2,
   "metadata": {},
   "outputs": [],
   "source": [
    "ratings_matrix = pd.read_pickle('ratings_matrix.pkl')\n",
    "#ratings_with_name = pd.read_pickle('ratings_with_name.pkl')"
   ]
  },
  {
   "cell_type": "code",
   "execution_count": 3,
   "metadata": {},
   "outputs": [],
   "source": [
    "corr_matrix = ratings_matrix.corr(method='pearson', min_periods=30)"
   ]
  },
  {
   "cell_type": "code",
   "execution_count": 4,
   "metadata": {},
   "outputs": [],
   "source": [
    "user_ratings= []\n",
    "for i in range(0,len(ratings_matrix)):\n",
    "    user_ratings.append(ratings_matrix.loc[i].dropna())"
   ]
  },
  {
   "cell_type": "code",
   "execution_count": 5,
   "metadata": {
    "scrolled": true
   },
   "outputs": [
    {
     "data": {
      "text/plain": [
       "Movie:Pretty Woman                         4.0\n",
       "Movie:P.S I Love You                       4.0\n",
       "Movie:Memento                              1.0\n",
       "Movie:L.A Confidential                     3.0\n",
       "Movie:Taken                                5.0\n",
       "Movie:Forrest Gump                         3.0\n",
       "Movie:Indiana Jones                        4.0\n",
       "Movie:Avatar                               5.0\n",
       "Movie:Gone Girl                            5.0\n",
       "Movie:Da Vinci Code                        3.0\n",
       "Book:Girl on the Train                     2.0\n",
       "Book:Gone Girl].                           4.0\n",
       "Book:Girl with the Dragon tattoo           4.0\n",
       "Book:Kane and Abel                         3.0\n",
       "Book:Goosebumps                            3.0\n",
       "Book:Treasure Island                       2.0\n",
       "Book:Moby Dick                             4.0\n",
       "Book:Harry Potter : Philosopher’s Stone    4.0\n",
       "Name: 0, dtype: float64"
      ]
     },
     "execution_count": 5,
     "metadata": {},
     "output_type": "execute_result"
    }
   ],
   "source": [
    "user_ratings[0]"
   ]
  },
  {
   "cell_type": "code",
   "execution_count": 6,
   "metadata": {},
   "outputs": [],
   "source": [
    "def generate_similar_items_list(corr_mat,user_rat):\n",
    "    final_recommendations = []\n",
    "    \n",
    "    for i in range(0,len(user_rat)):\n",
    "        recommendations = pd.Series()\n",
    "        for j in range(0,len(user_rat[i].index)):\n",
    "            rated_items = user_rat[i].index[j]\n",
    "            similar_items = corr_mat[rated_items].dropna()\n",
    "            similar_items = similar_items.map(lambda x : x * user_rat[i][j])\n",
    "            recommendations = recommendations.append(similar_items)\n",
    "        recommendations = recommendations.groupby(recommendations.index).sum()\n",
    "        final_recommendations.append(recommendations)\n",
    "    \n",
    "    return final_recommendations"
   ]
  },
  {
   "cell_type": "code",
   "execution_count": 7,
   "metadata": {},
   "outputs": [],
   "source": [
    "recommendations = generate_similar_items_list(corr_mat=corr_matrix, user_rat= user_ratings)"
   ]
  },
  {
   "cell_type": "code",
   "execution_count": 8,
   "metadata": {
    "scrolled": true
   },
   "outputs": [
    {
     "data": {
      "text/plain": [
       "Book:Da vinci Code                             55.540689\n",
       "Movie:Sherlock(Series)                         54.427771\n",
       "Movie:24(Series)                               54.164633\n",
       "Book:The Shining                               54.039158\n",
       "Movie:The Girl with the Dragon Tattoo          53.393771\n",
       "Movie:Prison Break(Series)                     52.665907\n",
       "Book:Around The World in 80 Days               52.628653\n",
       "Book:Hounds Of Baskerville(Sherlock Holmes)    52.309965\n",
       "Book:Hardy Boys                                52.268291\n",
       "Movie:Taken                                    51.943786\n",
       "Movie:Forrest Gump                             51.585384\n",
       "Movie:Doctor Who(Series)                       50.070370\n",
       "Book:Murder on the orient express              49.901155\n",
       "Book:Famous Five                               49.842021\n",
       "Movie:Gone Girl                                49.668400\n",
       "Book:Gone Girl].                               49.179360\n",
       "Movie:Avatar                                   48.207454\n",
       "Book:Pride and Prejudice                       48.153008\n",
       "Movie:Pretty Woman                             47.817361\n",
       "Book:The Kite Runner                           47.759585\n",
       "Movie:Die Hard                                 47.532662\n",
       "Movie:Skyfall                                  47.447780\n",
       "Movie:The Dark Knight                          47.342068\n",
       "Movie:The Prestige                             46.919700\n",
       "Movie:Whiplash                                 46.898521\n",
       "Movie:Homeland(Series)                         46.736626\n",
       "Movie:The Chronicles of Narnia                 46.662406\n",
       "Movie:Infinity war                             45.764326\n",
       "Movie:Da Vinci Code                            45.732270\n",
       "Book:Treasure Island                           45.615145\n",
       "                                                 ...    \n",
       "Book:Anna Karenina                             34.951316\n",
       "Movie:IT(2017)                                 34.569769\n",
       "Book:Lolita                                    34.280878\n",
       "Movie:Game of Thrones(Series)                  34.222498\n",
       "Movie:The Fault in our stars                   33.997201\n",
       "Book:The Notebook].                            33.669630\n",
       "Book:The Girl on the Train                     33.559397\n",
       "Movie:The Matrix                               33.330649\n",
       "Book:Goosebumps                                33.168368\n",
       "Movie:Seven                                    32.841279\n",
       "Movie:Eternal Sunshine of Spotless Mind        32.252111\n",
       "Book:1984                                      32.014691\n",
       "Book:Song Of Fire and ice                      31.765196\n",
       "Movie:Pulp Fiction                             31.632732\n",
       "Book:The Time Machine                          29.978330\n",
       "Book:I,Robot                                   28.929326\n",
       "Book:Percy Jackson                             28.344219\n",
       "Book:Wuthering Heights                         28.032261\n",
       "Book:Fifty shades of Grey                      26.719944\n",
       "Book:HitchHiker’s Guide To Galaxy              25.585139\n",
       "Book:Lord of the flies                         25.262402\n",
       "Book:The strange case of Dr.Jekyll and Hide    23.961323\n",
       "Book:The Fault in our Stars                    23.960349\n",
       "Movie:Black Mirror(Series)                     23.906004\n",
       "Book:Kane and Abel                             23.527595\n",
       "Book:Room on the Roof                          17.743161\n",
       "Book:Farewell To Arms                          12.764174\n",
       "Book:Eleanor and Park                           5.699044\n",
       "Book:Love in the Time of cholera                3.317936\n",
       "Book:Half Girlfriend                            2.038163\n",
       "Length: 101, dtype: float64"
      ]
     },
     "execution_count": 8,
     "metadata": {},
     "output_type": "execute_result"
    }
   ],
   "source": [
    "recommendations[14].sort_values(ascending=False) #recommendations for the 14th index user (HIGHER VALUE IMPLIES HIGHER RATING FOR THE PARTICULAR USER)"
   ]
  },
  {
   "cell_type": "code",
   "execution_count": 9,
   "metadata": {},
   "outputs": [],
   "source": [
    "def scaled_ratings(recommendations):\n",
    "    scaled_recommendations = []\n",
    "    for i in range(0,len(recommendations)):\n",
    "        rec = recommendations[i].sort_values(ascending = False)\n",
    "        rec = (rec - rec.min())/(rec.max() - rec.min()) #normalize it to 0-1\n",
    "        rec = rec*4 + 1  #scale it for 1-5 rating range\n",
    "        rec = np.rint(rec) #get it to the nearest integer\n",
    "        scaled_recommendations.append(rec)\n",
    "    return scaled_recommendations    "
   ]
  },
  {
   "cell_type": "code",
   "execution_count": 10,
   "metadata": {},
   "outputs": [],
   "source": [
    "scaled_recommendations =  scaled_ratings(recommendations)"
   ]
  },
  {
   "cell_type": "code",
   "execution_count": 12,
   "metadata": {
    "scrolled": true
   },
   "outputs": [
    {
     "data": {
      "text/plain": [
       "Book:Da vinci Code                             5.0\n",
       "Movie:Sherlock(Series)                         5.0\n",
       "Movie:24(Series)                               5.0\n",
       "Book:The Shining                               5.0\n",
       "Movie:The Girl with the Dragon Tattoo          5.0\n",
       "Movie:Prison Break(Series)                     5.0\n",
       "Book:Around The World in 80 Days               5.0\n",
       "Book:Hounds Of Baskerville(Sherlock Holmes)    5.0\n",
       "Book:Hardy Boys                                5.0\n",
       "Movie:Taken                                    5.0\n",
       "Movie:Forrest Gump                             5.0\n",
       "Movie:Doctor Who(Series)                       5.0\n",
       "Book:Murder on the orient express              5.0\n",
       "Book:Famous Five                               5.0\n",
       "Movie:Gone Girl                                5.0\n",
       "Book:Gone Girl].                               5.0\n",
       "Movie:Avatar                                   4.0\n",
       "Book:Pride and Prejudice                       4.0\n",
       "Movie:Pretty Woman                             4.0\n",
       "Book:The Kite Runner                           4.0\n",
       "Movie:Die Hard                                 4.0\n",
       "Movie:Skyfall                                  4.0\n",
       "Movie:The Dark Knight                          4.0\n",
       "Movie:The Prestige                             4.0\n",
       "Movie:Whiplash                                 4.0\n",
       "Movie:Homeland(Series)                         4.0\n",
       "Movie:The Chronicles of Narnia                 4.0\n",
       "Movie:Infinity war                             4.0\n",
       "Movie:Da Vinci Code                            4.0\n",
       "Book:Treasure Island                           4.0\n",
       "                                              ... \n",
       "Book:Anna Karenina                             3.0\n",
       "Movie:IT(2017)                                 3.0\n",
       "Book:Lolita                                    3.0\n",
       "Movie:Game of Thrones(Series)                  3.0\n",
       "Movie:The Fault in our stars                   3.0\n",
       "Book:The Notebook].                            3.0\n",
       "Book:The Girl on the Train                     3.0\n",
       "Movie:The Matrix                               3.0\n",
       "Book:Goosebumps                                3.0\n",
       "Movie:Seven                                    3.0\n",
       "Movie:Eternal Sunshine of Spotless Mind        3.0\n",
       "Book:1984                                      3.0\n",
       "Book:Song Of Fire and ice                      3.0\n",
       "Movie:Pulp Fiction                             3.0\n",
       "Book:The Time Machine                          3.0\n",
       "Book:I,Robot                                   3.0\n",
       "Book:Percy Jackson                             3.0\n",
       "Book:Wuthering Heights                         3.0\n",
       "Book:Fifty shades of Grey                      3.0\n",
       "Book:HitchHiker’s Guide To Galaxy              3.0\n",
       "Book:Lord of the flies                         3.0\n",
       "Book:The strange case of Dr.Jekyll and Hide    3.0\n",
       "Book:The Fault in our Stars                    3.0\n",
       "Movie:Black Mirror(Series)                     3.0\n",
       "Book:Kane and Abel                             3.0\n",
       "Book:Room on the Roof                          2.0\n",
       "Book:Farewell To Arms                          2.0\n",
       "Book:Eleanor and Park                          1.0\n",
       "Book:Love in the Time of cholera               1.0\n",
       "Book:Half Girlfriend                           1.0\n",
       "Length: 101, dtype: float64"
      ]
     },
     "execution_count": 12,
     "metadata": {},
     "output_type": "execute_result"
    }
   ],
   "source": [
    "scaled_recommendations[14] #scales everything to an integer between 1-5"
   ]
  },
  {
   "cell_type": "code",
   "execution_count": 13,
   "metadata": {},
   "outputs": [],
   "source": [
    "def error_calculation(predicted_ratings,orig_ratings_mat):\n",
    "    \"\"\"\n",
    "    predicted_ratings and orig_ratings_mat should be of same length\n",
    "    \n",
    "    \"\"\"\n",
    "    error_array = []\n",
    "    for i in range(0,len(predicted_ratings)):\n",
    "        common_items = predicted_ratings[i].index.intersection(orig_ratings_mat.loc[i].dropna().index)\n",
    "        pred = predicted_ratings[i][common_items]\n",
    "        orig = orig_ratings_mat.loc[i][common_items]\n",
    "        pred  = np.array(pred)\n",
    "        orig  = np.array(orig)\n",
    "        error_score = mean_absolute_error(orig,pred)\n",
    "        error_array.append(error_score)\n",
    "    return error_array"
   ]
  },
  {
   "cell_type": "code",
   "execution_count": 14,
   "metadata": {
    "scrolled": true
   },
   "outputs": [],
   "source": [
    "errors = error_calculation(scaled_recommendations,ratings_matrix)"
   ]
  },
  {
   "cell_type": "code",
   "execution_count": 15,
   "metadata": {},
   "outputs": [],
   "source": [
    "errors = np.array(errors)"
   ]
  },
  {
   "cell_type": "code",
   "execution_count": 16,
   "metadata": {},
   "outputs": [
    {
     "data": {
      "text/plain": [
       "0.8411153557831221"
      ]
     },
     "execution_count": 16,
     "metadata": {},
     "output_type": "execute_result"
    }
   ],
   "source": [
    "errors.mean()"
   ]
  },
  {
   "cell_type": "code",
   "execution_count": 17,
   "metadata": {},
   "outputs": [],
   "source": [
    "predicted_for_user = scaled_recommendations[14]\n",
    "actual_user_ratings = user_ratings[14]"
   ]
  },
  {
   "cell_type": "code",
   "execution_count": 18,
   "metadata": {},
   "outputs": [],
   "source": [
    "common = predicted_for_user.index.intersection(actual_user_ratings.index)"
   ]
  },
  {
   "cell_type": "code",
   "execution_count": 19,
   "metadata": {},
   "outputs": [],
   "source": [
    "predicted_for_user = predicted_for_user[common]"
   ]
  },
  {
   "cell_type": "code",
   "execution_count": 20,
   "metadata": {
    "scrolled": true
   },
   "outputs": [],
   "source": [
    "compare_df  = pd.concat([predicted_for_user,actual_user_ratings],axis = 1,sort = True)"
   ]
  },
  {
   "cell_type": "code",
   "execution_count": 21,
   "metadata": {
    "scrolled": true
   },
   "outputs": [
    {
     "data": {
      "text/html": [
       "<div>\n",
       "<style scoped>\n",
       "    .dataframe tbody tr th:only-of-type {\n",
       "        vertical-align: middle;\n",
       "    }\n",
       "\n",
       "    .dataframe tbody tr th {\n",
       "        vertical-align: top;\n",
       "    }\n",
       "\n",
       "    .dataframe thead th {\n",
       "        text-align: right;\n",
       "    }\n",
       "</style>\n",
       "<table border=\"1\" class=\"dataframe\">\n",
       "  <thead>\n",
       "    <tr style=\"text-align: right;\">\n",
       "      <th></th>\n",
       "      <th>Predicted</th>\n",
       "      <th>Actual</th>\n",
       "    </tr>\n",
       "  </thead>\n",
       "  <tbody>\n",
       "    <tr>\n",
       "      <th>Book:1984</th>\n",
       "      <td>3.0</td>\n",
       "      <td>4.0</td>\n",
       "    </tr>\n",
       "    <tr>\n",
       "      <th>Book:Alice in the Wonderland</th>\n",
       "      <td>4.0</td>\n",
       "      <td>4.0</td>\n",
       "    </tr>\n",
       "    <tr>\n",
       "      <th>Book:Around The World in 80 Days</th>\n",
       "      <td>5.0</td>\n",
       "      <td>3.0</td>\n",
       "    </tr>\n",
       "    <tr>\n",
       "      <th>Book:Da vinci Code</th>\n",
       "      <td>5.0</td>\n",
       "      <td>5.0</td>\n",
       "    </tr>\n",
       "    <tr>\n",
       "      <th>Book:Death on the Nile</th>\n",
       "      <td>4.0</td>\n",
       "      <td>4.0</td>\n",
       "    </tr>\n",
       "    <tr>\n",
       "      <th>Book:Famous Five</th>\n",
       "      <td>5.0</td>\n",
       "      <td>4.0</td>\n",
       "    </tr>\n",
       "    <tr>\n",
       "      <th>Book:Goosebumps</th>\n",
       "      <td>3.0</td>\n",
       "      <td>2.0</td>\n",
       "    </tr>\n",
       "    <tr>\n",
       "      <th>Book:Hardy Boys</th>\n",
       "      <td>5.0</td>\n",
       "      <td>4.0</td>\n",
       "    </tr>\n",
       "    <tr>\n",
       "      <th>Book:Harry Potter : Half Blood Prince</th>\n",
       "      <td>4.0</td>\n",
       "      <td>5.0</td>\n",
       "    </tr>\n",
       "    <tr>\n",
       "      <th>Book:Harry Potter : Philosopher’s Stone</th>\n",
       "      <td>4.0</td>\n",
       "      <td>4.0</td>\n",
       "    </tr>\n",
       "    <tr>\n",
       "      <th>Book:HitchHiker’s Guide To Galaxy</th>\n",
       "      <td>3.0</td>\n",
       "      <td>5.0</td>\n",
       "    </tr>\n",
       "    <tr>\n",
       "      <th>Book:Hounds Of Baskerville(Sherlock Holmes)</th>\n",
       "      <td>5.0</td>\n",
       "      <td>3.0</td>\n",
       "    </tr>\n",
       "    <tr>\n",
       "      <th>Book:Jane eyre</th>\n",
       "      <td>3.0</td>\n",
       "      <td>1.0</td>\n",
       "    </tr>\n",
       "    <tr>\n",
       "      <th>Book:Love in the Time of cholera</th>\n",
       "      <td>1.0</td>\n",
       "      <td>1.0</td>\n",
       "    </tr>\n",
       "    <tr>\n",
       "      <th>Book:Murder on the orient express</th>\n",
       "      <td>5.0</td>\n",
       "      <td>4.0</td>\n",
       "    </tr>\n",
       "    <tr>\n",
       "      <th>Book:Percy Jackson</th>\n",
       "      <td>3.0</td>\n",
       "      <td>3.0</td>\n",
       "    </tr>\n",
       "    <tr>\n",
       "      <th>Book:Room on the Roof</th>\n",
       "      <td>2.0</td>\n",
       "      <td>3.0</td>\n",
       "    </tr>\n",
       "    <tr>\n",
       "      <th>Book:The Book Thief</th>\n",
       "      <td>4.0</td>\n",
       "      <td>5.0</td>\n",
       "    </tr>\n",
       "    <tr>\n",
       "      <th>Book:The Time Machine</th>\n",
       "      <td>3.0</td>\n",
       "      <td>4.0</td>\n",
       "    </tr>\n",
       "    <tr>\n",
       "      <th>Book:Treasure Island</th>\n",
       "      <td>4.0</td>\n",
       "      <td>3.0</td>\n",
       "    </tr>\n",
       "    <tr>\n",
       "      <th>Book:Wuthering Heights</th>\n",
       "      <td>3.0</td>\n",
       "      <td>2.0</td>\n",
       "    </tr>\n",
       "    <tr>\n",
       "      <th>Movie:24(Series)</th>\n",
       "      <td>5.0</td>\n",
       "      <td>4.0</td>\n",
       "    </tr>\n",
       "    <tr>\n",
       "      <th>Movie:Avatar</th>\n",
       "      <td>4.0</td>\n",
       "      <td>5.0</td>\n",
       "    </tr>\n",
       "    <tr>\n",
       "      <th>Movie:Da Vinci Code</th>\n",
       "      <td>4.0</td>\n",
       "      <td>4.0</td>\n",
       "    </tr>\n",
       "    <tr>\n",
       "      <th>Movie:Die Hard</th>\n",
       "      <td>4.0</td>\n",
       "      <td>5.0</td>\n",
       "    </tr>\n",
       "    <tr>\n",
       "      <th>Movie:Forrest Gump</th>\n",
       "      <td>5.0</td>\n",
       "      <td>3.0</td>\n",
       "    </tr>\n",
       "    <tr>\n",
       "      <th>Movie:Get out</th>\n",
       "      <td>4.0</td>\n",
       "      <td>1.0</td>\n",
       "    </tr>\n",
       "    <tr>\n",
       "      <th>Movie:Harry Potter : Deathly Hallows</th>\n",
       "      <td>4.0</td>\n",
       "      <td>5.0</td>\n",
       "    </tr>\n",
       "    <tr>\n",
       "      <th>Movie:Homeland(Series)</th>\n",
       "      <td>4.0</td>\n",
       "      <td>4.0</td>\n",
       "    </tr>\n",
       "    <tr>\n",
       "      <th>Movie:Interstellar</th>\n",
       "      <td>4.0</td>\n",
       "      <td>3.0</td>\n",
       "    </tr>\n",
       "    <tr>\n",
       "      <th>Movie:Life of Pi</th>\n",
       "      <td>4.0</td>\n",
       "      <td>3.0</td>\n",
       "    </tr>\n",
       "    <tr>\n",
       "      <th>Movie:Pretty Woman</th>\n",
       "      <td>4.0</td>\n",
       "      <td>3.0</td>\n",
       "    </tr>\n",
       "    <tr>\n",
       "      <th>Movie:Sherlock(Series)</th>\n",
       "      <td>5.0</td>\n",
       "      <td>3.0</td>\n",
       "    </tr>\n",
       "    <tr>\n",
       "      <th>Movie:Skyfall</th>\n",
       "      <td>4.0</td>\n",
       "      <td>3.0</td>\n",
       "    </tr>\n",
       "    <tr>\n",
       "      <th>Movie:Taken</th>\n",
       "      <td>5.0</td>\n",
       "      <td>4.0</td>\n",
       "    </tr>\n",
       "    <tr>\n",
       "      <th>Movie:The Chronicles of Narnia</th>\n",
       "      <td>4.0</td>\n",
       "      <td>2.0</td>\n",
       "    </tr>\n",
       "    <tr>\n",
       "      <th>Movie:The Conjuring</th>\n",
       "      <td>4.0</td>\n",
       "      <td>1.0</td>\n",
       "    </tr>\n",
       "    <tr>\n",
       "      <th>Movie:The Dark Knight</th>\n",
       "      <td>4.0</td>\n",
       "      <td>4.0</td>\n",
       "    </tr>\n",
       "    <tr>\n",
       "      <th>Movie:The Prestige</th>\n",
       "      <td>4.0</td>\n",
       "      <td>4.0</td>\n",
       "    </tr>\n",
       "    <tr>\n",
       "      <th>Movie:Whiplash</th>\n",
       "      <td>4.0</td>\n",
       "      <td>4.0</td>\n",
       "    </tr>\n",
       "  </tbody>\n",
       "</table>\n",
       "</div>"
      ],
      "text/plain": [
       "                                             Predicted  Actual\n",
       "Book:1984                                          3.0     4.0\n",
       "Book:Alice in the Wonderland                       4.0     4.0\n",
       "Book:Around The World in 80 Days                   5.0     3.0\n",
       "Book:Da vinci Code                                 5.0     5.0\n",
       "Book:Death on the Nile                             4.0     4.0\n",
       "Book:Famous Five                                   5.0     4.0\n",
       "Book:Goosebumps                                    3.0     2.0\n",
       "Book:Hardy Boys                                    5.0     4.0\n",
       "Book:Harry Potter : Half Blood Prince              4.0     5.0\n",
       "Book:Harry Potter : Philosopher’s Stone            4.0     4.0\n",
       "Book:HitchHiker’s Guide To Galaxy                  3.0     5.0\n",
       "Book:Hounds Of Baskerville(Sherlock Holmes)        5.0     3.0\n",
       "Book:Jane eyre                                     3.0     1.0\n",
       "Book:Love in the Time of cholera                   1.0     1.0\n",
       "Book:Murder on the orient express                  5.0     4.0\n",
       "Book:Percy Jackson                                 3.0     3.0\n",
       "Book:Room on the Roof                              2.0     3.0\n",
       "Book:The Book Thief                                4.0     5.0\n",
       "Book:The Time Machine                              3.0     4.0\n",
       "Book:Treasure Island                               4.0     3.0\n",
       "Book:Wuthering Heights                             3.0     2.0\n",
       "Movie:24(Series)                                   5.0     4.0\n",
       "Movie:Avatar                                       4.0     5.0\n",
       "Movie:Da Vinci Code                                4.0     4.0\n",
       "Movie:Die Hard                                     4.0     5.0\n",
       "Movie:Forrest Gump                                 5.0     3.0\n",
       "Movie:Get out                                      4.0     1.0\n",
       "Movie:Harry Potter : Deathly Hallows               4.0     5.0\n",
       "Movie:Homeland(Series)                             4.0     4.0\n",
       "Movie:Interstellar                                 4.0     3.0\n",
       "Movie:Life of Pi                                   4.0     3.0\n",
       "Movie:Pretty Woman                                 4.0     3.0\n",
       "Movie:Sherlock(Series)                             5.0     3.0\n",
       "Movie:Skyfall                                      4.0     3.0\n",
       "Movie:Taken                                        5.0     4.0\n",
       "Movie:The Chronicles of Narnia                     4.0     2.0\n",
       "Movie:The Conjuring                                4.0     1.0\n",
       "Movie:The Dark Knight                              4.0     4.0\n",
       "Movie:The Prestige                                 4.0     4.0\n",
       "Movie:Whiplash                                     4.0     4.0"
      ]
     },
     "execution_count": 21,
     "metadata": {},
     "output_type": "execute_result"
    }
   ],
   "source": [
    "compare_df.rename(index = str , columns={0 : \"Predicted\" , 14 : \"Actual\"})"
   ]
  },
  {
   "cell_type": "code",
   "execution_count": null,
   "metadata": {},
   "outputs": [],
   "source": []
  }
 ],
 "metadata": {
  "kernelspec": {
   "display_name": "Python 3",
   "language": "python",
   "name": "python3"
  },
  "language_info": {
   "codemirror_mode": {
    "name": "ipython",
    "version": 3
   },
   "file_extension": ".py",
   "mimetype": "text/x-python",
   "name": "python",
   "nbconvert_exporter": "python",
   "pygments_lexer": "ipython3",
   "version": "3.6.8"
  }
 },
 "nbformat": 4,
 "nbformat_minor": 2
}
